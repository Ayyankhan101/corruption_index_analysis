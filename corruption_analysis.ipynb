{
 "cells": [
  {
   "cell_type": "markdown",
   "metadata": {},
   "source": [
    "# Corruption Perception Index Analysis"
   ]
  },
  {
   "cell_type": "markdown",
   "metadata": {},
   "source": [
    "This notebook analyzes the Corruption Perception Index (CPI) data to identify the most and least corrupt countries, visualize the data, and cluster countries based on their corruption levels."
   ]
  },
  {
   "cell_type": "markdown",
   "metadata": {},
   "source": [
    "## 1. Loading and Exploring the Data"
   ]
  },
  {
   "cell_type": "code",
   "execution_count": null,
   "metadata": {},
   "outputs": [],
   "source": [
    "import pandas as pd\n",
    "import matplotlib.pyplot as plt\n",
    "import seaborn as sns\n",
    "from sklearn.cluster import KMeans\n",
    "\n",
    "df = pd.read_csv('corruption_data.csv')\n",
    "print(df.head())\n",
    "print(df.info())"
   ]
  },
  {
   "cell_type": "markdown",
   "metadata": {},
   "source": [
    "## 2. Most and Least Corrupt Countries"
   ]
  },
  {
   "cell_type": "markdown",
   "metadata": {},
   "source": [
    "The CPI score ranges from 0 (highly corrupt) to 100 (very clean)."
   ]
  },
  {
   "cell_type": "code",
   "execution_count": null,
   "metadata": {},
   "outputs": [],
   "source": [
    "most_corrupt = df.sort_values(by='CPI Score 2023', ascending=True).head(10)\n",
    "least_corrupt = df.sort_values(by='CPI Score 2023', ascending=False).head(10)\n",
    "\n",
    "print(\"\\nMost Corrupt Countries (Lowest CPI Score):\\n\")\n",
    "print(most_corrupt[['Country', 'CPI Score 2023']])\n",
    "\n",
    "print(\"\\nLeast Corrupt Countries (Highest CPI Score):\\n\")\n",
    "print(least_corrupt[['Country', 'CPI Score 2023']])"
   ]
  },
  {
   "cell_type": "markdown",
   "metadata": {},
   "source": [
    "## 3. Data Visualization"
   ]
  },
  {
   "cell_type": "markdown",
   "metadata": {},
   "source": [
    "### 3.1 Top 10 Least Corrupt Countries"
   ]
  },
  {
   "cell_type": "code",
   "execution_count": null,
   "metadata": {},
   "outputs": [],
   "source": [
    "plt.figure(figsize=(12, 7))\n",
    "sns.barplot(x='CPI Score 2023', y='Country', data=least_corrupt, palette='viridis')\n",
    "plt.title('Top 10 Least Corrupt Countries (Highest CPI Score)')\n",
    "plt.xlabel('CPI Score 2023')\n",
    "plt.ylabel('Country')\n",
    "plt.xlim(0, 100)\n",
    "plt.show()"
   ]
  },
  {
   "cell_type": "markdown",
   "metadata": {},
   "source": [
    "### 3.2 Top 10 Most Corrupt Countries"
   ]
  },
  {
   "cell_type": "code",
   "execution_count": null,
   "metadata": {},
   "outputs": [],
   "source": [
    "plt.figure(figsize=(12, 7))\n",
    "sns.barplot(x='CPI Score 2023', y='Country', data=most_corrupt, palette='magma')\n",
    "plt.title('Top 10 Most Corrupt Countries (Lowest CPI Score)')\n",
    "plt.xlabel('CPI Score 2023')\n",
    "plt.ylabel('Country')\n",
    "plt.xlim(0, 100)\n",
    "plt.show()"
   ]
  },
  {
   "cell_type": "markdown",
   "metadata": {},
   "source": [
    "### 3.3 Distribution of CPI Scores"
   ]
  },
  {
   "cell_type": "code",
   "execution_count": null,
   "metadata": {},
   "outputs": [],
   "source": [
    "plt.figure(figsize=(10, 6))\n",
    "sns.histplot(df['CPI Score 2023'], bins=10, kde=True)\n",
    "plt.title('Distribution of CPI Scores')\n",
    "plt.xlabel('CPI Score 2023')\n",
    "plt.ylabel('Number of Countries')\n",
    "plt.show()"
   ]
  },
  {
   "cell_type": "markdown",
   "metadata": {},
   "source": [
    "## 4. Machine Learning: Clustering Countries by Corruption Levels"
   ]
  },
  {
   "cell_type": "markdown",
   "metadata": {},
   "source": [
    "We will use K-Means clustering to group countries based on their CPI scores. We'll choose 3 clusters to represent low, medium, and high corruption levels."
   ]
  },
  {
   "cell_type": "code",
   "execution_count": null,
   "metadata": {},
   "outputs": [],
   "source": [
    "from sklearn.cluster import KMeans\n",
    "\n",
    "X = df[['CPI Score 2023']]\n",
    "kmeans = KMeans(n_clusters=3, random_state=42, n_init=10)\n",
    "df['Cluster'] = kmeans.fit_predict(X)\n",
    "\n",
    "# Sort by CPI score to see the clusters clearly\n",
    "df_sorted = df.sort_values(by='CPI Score 2023', ascending=False)\n",
    "print(df_sorted[['Country', 'CPI Score 2023', 'Cluster']].head(15))"
   ]
  },
  {
   "cell_type": "markdown",
   "metadata": {},
   "source": [
    "### 4.1 Visualizing the Clusters"
   ]
  },
  {
   "cell_type": "code",
   "execution_count": null,
   "metadata": {},
   "outputs": [],
   "source": [
    "plt.figure(figsize=(12, 8))\n",
    "sns.scatterplot(x='CPI Score 2023', y='Country', hue='Cluster', data=df_sorted, palette='coolwarm', s=100)\n",
    "plt.title('Countries Clustered by CPI Score')\n",
    "plt.xlabel('CPI Score 2023')\n",
    "plt.ylabel('Country')\n",
    "plt.legend(title='Corruption Cluster')\n",
    "plt.grid(axis='x', linestyle='--', alpha=0.7)\n",
    "plt.show()"
   ]
  }
 ],
 "metadata": {
  "kernelspec": {
   "display_name": "Python 3",
   "language": "python",
   "name": "python3"
  },
  "language_info": {
   "codemirror_mode": {
    "name": "ipython",
    "version": 3
   },
   "file_extension": ".py",
   "mimetype": "text/x-python",
   "name": "python",
   "nbconvert_exporter": "python",
   "pygments_lexer": "ipython3",
   "version": "3.10.9"
  }
 },
 "nbformat": 4,
 "nbformat_minor": 4
}